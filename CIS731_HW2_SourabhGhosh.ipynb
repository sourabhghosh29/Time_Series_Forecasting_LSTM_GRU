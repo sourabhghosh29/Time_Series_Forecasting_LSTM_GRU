{
 "cells": [
  {
   "cell_type": "markdown",
   "metadata": {},
   "source": [
    "\n",
    "## Sourabh Ghosh - CIS 731 - HW2"
   ]
  },
  {
   "cell_type": "markdown",
   "metadata": {},
   "source": [
    "\n",
    "### Timeseries Forecasting & Model Performance Comparison for US Liquor Sales (1980-2007)"
   ]
  },
  {
   "cell_type": "markdown",
   "metadata": {},
   "source": [
    "### Comparing change across (FNN,BPTT,LSTM,GRU)"
   ]
  },
  {
   "cell_type": "markdown",
   "metadata": {},
   "source": [
    "#### Dataset : Monthly U.S. Liquor Sales (1980-2007) - csv file (http://course1.winona.edu/bdeppa/FIN%20335/Datasets/datasets.html)"
   ]
  },
  {
   "cell_type": "code",
   "execution_count": 70,
   "metadata": {},
   "outputs": [
    {
     "name": "stdout",
     "output_type": "stream",
     "text": [
      "import completed\n"
     ]
    }
   ],
   "source": [
    "#iporting required libraries\n",
    "import pandas as pd\n",
    "import numpy as np\n",
    "import matplotlib.pyplot as plt\n",
    "import time\n",
    "from numpy import newaxis\n",
    "import tensorflow as tf\n",
    "import tensorflow_docs as tfdocs\n",
    "from keras.layers.core import Dense, Activation, Dropout\n",
    "from keras.layers.recurrent import LSTM, GRU\n",
    "from keras.models import Sequential\n",
    "from keras import optimizers\n",
    "from sklearn.preprocessing import MinMaxScaler\n",
    "import seaborn as sns\n",
    "import tensorflow_docs.plots\n",
    "import tensorflow_docs.modeling\n",
    "from tensorflow import keras\n",
    "from tensorflow.keras import layers\n",
    "from keras.models import Sequential\n",
    "from keras.layers import Dense, SimpleRNN\n",
    "\n",
    "print ('import completed')\n",
    "\n",
    "%matplotlib inline"
   ]
  },
  {
   "cell_type": "code",
   "execution_count": 55,
   "metadata": {},
   "outputs": [],
   "source": [
    "\n",
    "dataset = pd.read_csv(\"US Liquor Sales.csv\", header=0)\n"
   ]
  },
  {
   "cell_type": "markdown",
   "metadata": {},
   "source": [
    "This dataset represents sales of liquor in US from year 1980 to 2007. Each observation represents the monthly sale of liquor in United States. We will use time series changes across months to forecast liquor sales for the upcoming duration"
   ]
  },
  {
   "cell_type": "code",
   "execution_count": 56,
   "metadata": {},
   "outputs": [
    {
     "data": {
      "text/html": [
       "<div>\n",
       "<style scoped>\n",
       "    .dataframe tbody tr th:only-of-type {\n",
       "        vertical-align: middle;\n",
       "    }\n",
       "\n",
       "    .dataframe tbody tr th {\n",
       "        vertical-align: top;\n",
       "    }\n",
       "\n",
       "    .dataframe thead th {\n",
       "        text-align: right;\n",
       "    }\n",
       "</style>\n",
       "<table border=\"1\" class=\"dataframe\">\n",
       "  <thead>\n",
       "    <tr style=\"text-align: right;\">\n",
       "      <th></th>\n",
       "      <th>Time</th>\n",
       "      <th>Month</th>\n",
       "      <th>Year</th>\n",
       "      <th>LiquorSales</th>\n",
       "    </tr>\n",
       "  </thead>\n",
       "  <tbody>\n",
       "    <tr>\n",
       "      <th>0</th>\n",
       "      <td>1</td>\n",
       "      <td>1</td>\n",
       "      <td>1980</td>\n",
       "      <td>480</td>\n",
       "    </tr>\n",
       "    <tr>\n",
       "      <th>1</th>\n",
       "      <td>2</td>\n",
       "      <td>2</td>\n",
       "      <td>1980</td>\n",
       "      <td>467</td>\n",
       "    </tr>\n",
       "    <tr>\n",
       "      <th>2</th>\n",
       "      <td>3</td>\n",
       "      <td>3</td>\n",
       "      <td>1980</td>\n",
       "      <td>514</td>\n",
       "    </tr>\n",
       "    <tr>\n",
       "      <th>3</th>\n",
       "      <td>4</td>\n",
       "      <td>4</td>\n",
       "      <td>1980</td>\n",
       "      <td>505</td>\n",
       "    </tr>\n",
       "    <tr>\n",
       "      <th>4</th>\n",
       "      <td>5</td>\n",
       "      <td>5</td>\n",
       "      <td>1980</td>\n",
       "      <td>534</td>\n",
       "    </tr>\n",
       "    <tr>\n",
       "      <th>5</th>\n",
       "      <td>6</td>\n",
       "      <td>6</td>\n",
       "      <td>1980</td>\n",
       "      <td>546</td>\n",
       "    </tr>\n",
       "    <tr>\n",
       "      <th>6</th>\n",
       "      <td>7</td>\n",
       "      <td>7</td>\n",
       "      <td>1980</td>\n",
       "      <td>539</td>\n",
       "    </tr>\n",
       "    <tr>\n",
       "      <th>7</th>\n",
       "      <td>8</td>\n",
       "      <td>8</td>\n",
       "      <td>1980</td>\n",
       "      <td>541</td>\n",
       "    </tr>\n",
       "    <tr>\n",
       "      <th>8</th>\n",
       "      <td>9</td>\n",
       "      <td>9</td>\n",
       "      <td>1980</td>\n",
       "      <td>551</td>\n",
       "    </tr>\n",
       "    <tr>\n",
       "      <th>9</th>\n",
       "      <td>10</td>\n",
       "      <td>10</td>\n",
       "      <td>1980</td>\n",
       "      <td>537</td>\n",
       "    </tr>\n",
       "  </tbody>\n",
       "</table>\n",
       "</div>"
      ],
      "text/plain": [
       "   Time  Month  Year  LiquorSales\n",
       "0     1      1  1980          480\n",
       "1     2      2  1980          467\n",
       "2     3      3  1980          514\n",
       "3     4      4  1980          505\n",
       "4     5      5  1980          534\n",
       "5     6      6  1980          546\n",
       "6     7      7  1980          539\n",
       "7     8      8  1980          541\n",
       "8     9      9  1980          551\n",
       "9    10     10  1980          537"
      ]
     },
     "execution_count": 56,
     "metadata": {},
     "output_type": "execute_result"
    }
   ],
   "source": [
    "dataset.head(10)"
   ]
  },
  {
   "cell_type": "code",
   "execution_count": 54,
   "metadata": {},
   "outputs": [
    {
     "data": {
      "image/png": "[encoded data removed]",
      "text/plain": [
       "<Figure size 432x288 with 1 Axes>"
      ]
     },
     "metadata": {
      "needs_background": "light"
     },
     "output_type": "display_data"
    }
   ],
   "source": [
    "ts = dataset.LiquorSales\n",
    "ts = ts/np.mean(ts)\n",
    "plt.plot(ts);"
   ]
  },
  {
   "cell_type": "markdown",
   "metadata": {},
   "source": [
    "This timeseries data observes seasonality, we will use various forecasting techniques mimicking this pattern inorder to predict future liquor sales for united states"
   ]
  },
  {
   "cell_type": "markdown",
   "metadata": {},
   "source": [
    "### Data Preprocessing"
   ]
  },
  {
   "cell_type": "code",
   "execution_count": 4,
   "metadata": {},
   "outputs": [],
   "source": [
    "#Dropping the columns which are not part of features to our model\n",
    "dataset.drop(['Time', 'Month', 'Year'],axis=1,inplace=True)"
   ]
  },
  {
   "cell_type": "markdown",
   "metadata": {},
   "source": [
    " Since neural networks and recurrent neural networks perform better with scaled data hence scaling our data for US liquor"
   ]
  },
  {
   "cell_type": "code",
   "execution_count": 57,
   "metadata": {},
   "outputs": [],
   "source": [
    "scaler_minmax = MinMaxScaler()\n",
    "dataset[\"LiquorSales\"]=scaler_minmax.fit_transform(np.array(dataset.LiquorSales).reshape(-1,1))"
   ]
  },
  {
   "cell_type": "markdown",
   "metadata": {},
   "source": [
    "We will use previous 12 months observation across time to forecast the current months liquor sales.\n",
    "Below code adds new columns for 12 months with respect to the liquor sales for the existing month.\n",
    "This process will allow to engineer feature (month1-month12) used for predicting liquor sales."
   ]
  },
  {
   "cell_type": "code",
   "execution_count": 7,
   "metadata": {},
   "outputs": [],
   "source": [
    "for i in range(1,13):\n",
    "    dataset[\"month\"+str(i)]=dataset[\"LiquorSales\"].shift(i)"
   ]
  },
  {
   "cell_type": "code",
   "execution_count": 8,
   "metadata": {},
   "outputs": [
    {
     "data": {
      "text/html": [
       "<div>\n",
       "<style scoped>\n",
       "    .dataframe tbody tr th:only-of-type {\n",
       "        vertical-align: middle;\n",
       "    }\n",
       "\n",
       "    .dataframe tbody tr th {\n",
       "        vertical-align: top;\n",
       "    }\n",
       "\n",
       "    .dataframe thead th {\n",
       "        text-align: right;\n",
       "    }\n",
       "</style>\n",
       "<table border=\"1\" class=\"dataframe\">\n",
       "  <thead>\n",
       "    <tr style=\"text-align: right;\">\n",
       "      <th></th>\n",
       "      <th>LiquorSales</th>\n",
       "      <th>month1</th>\n",
       "      <th>month2</th>\n",
       "      <th>month3</th>\n",
       "      <th>month4</th>\n",
       "      <th>month5</th>\n",
       "      <th>month6</th>\n",
       "      <th>month7</th>\n",
       "      <th>month8</th>\n",
       "      <th>month9</th>\n",
       "      <th>month10</th>\n",
       "      <th>month11</th>\n",
       "      <th>month12</th>\n",
       "    </tr>\n",
       "  </thead>\n",
       "  <tbody>\n",
       "    <tr>\n",
       "      <th>331</th>\n",
       "      <td>0.576906</td>\n",
       "      <td>0.628471</td>\n",
       "      <td>0.576025</td>\n",
       "      <td>0.565888</td>\n",
       "      <td>0.535919</td>\n",
       "      <td>0.518290</td>\n",
       "      <td>0.431027</td>\n",
       "      <td>0.451300</td>\n",
       "      <td>0.838255</td>\n",
       "      <td>0.557955</td>\n",
       "      <td>0.549141</td>\n",
       "      <td>0.529749</td>\n",
       "      <td>0.562362</td>\n",
       "    </tr>\n",
       "    <tr>\n",
       "      <th>332</th>\n",
       "      <td>0.562362</td>\n",
       "      <td>0.576906</td>\n",
       "      <td>0.628471</td>\n",
       "      <td>0.576025</td>\n",
       "      <td>0.565888</td>\n",
       "      <td>0.535919</td>\n",
       "      <td>0.518290</td>\n",
       "      <td>0.431027</td>\n",
       "      <td>0.451300</td>\n",
       "      <td>0.838255</td>\n",
       "      <td>0.557955</td>\n",
       "      <td>0.549141</td>\n",
       "      <td>0.529749</td>\n",
       "    </tr>\n",
       "    <tr>\n",
       "      <th>333</th>\n",
       "      <td>0.555751</td>\n",
       "      <td>0.562362</td>\n",
       "      <td>0.576906</td>\n",
       "      <td>0.628471</td>\n",
       "      <td>0.576025</td>\n",
       "      <td>0.565888</td>\n",
       "      <td>0.535919</td>\n",
       "      <td>0.518290</td>\n",
       "      <td>0.431027</td>\n",
       "      <td>0.451300</td>\n",
       "      <td>0.838255</td>\n",
       "      <td>0.557955</td>\n",
       "      <td>0.549141</td>\n",
       "    </tr>\n",
       "    <tr>\n",
       "      <th>334</th>\n",
       "      <td>0.573821</td>\n",
       "      <td>0.555751</td>\n",
       "      <td>0.562362</td>\n",
       "      <td>0.576906</td>\n",
       "      <td>0.628471</td>\n",
       "      <td>0.576025</td>\n",
       "      <td>0.565888</td>\n",
       "      <td>0.535919</td>\n",
       "      <td>0.518290</td>\n",
       "      <td>0.431027</td>\n",
       "      <td>0.451300</td>\n",
       "      <td>0.838255</td>\n",
       "      <td>0.557955</td>\n",
       "    </tr>\n",
       "    <tr>\n",
       "      <th>335</th>\n",
       "      <td>0.865580</td>\n",
       "      <td>0.573821</td>\n",
       "      <td>0.555751</td>\n",
       "      <td>0.562362</td>\n",
       "      <td>0.576906</td>\n",
       "      <td>0.628471</td>\n",
       "      <td>0.576025</td>\n",
       "      <td>0.565888</td>\n",
       "      <td>0.535919</td>\n",
       "      <td>0.518290</td>\n",
       "      <td>0.431027</td>\n",
       "      <td>0.451300</td>\n",
       "      <td>0.838255</td>\n",
       "    </tr>\n",
       "  </tbody>\n",
       "</table>\n",
       "</div>"
      ],
      "text/plain": [
       "     LiquorSales    month1    month2    month3    month4    month5    month6  \\\n",
       "331     0.576906  0.628471  0.576025  0.565888  0.535919  0.518290  0.431027   \n",
       "332     0.562362  0.576906  0.628471  0.576025  0.565888  0.535919  0.518290   \n",
       "333     0.555751  0.562362  0.576906  0.628471  0.576025  0.565888  0.535919   \n",
       "334     0.573821  0.555751  0.562362  0.576906  0.628471  0.576025  0.565888   \n",
       "335     0.865580  0.573821  0.555751  0.562362  0.576906  0.628471  0.576025   \n",
       "\n",
       "       month7    month8    month9   month10   month11   month12  \n",
       "331  0.451300  0.838255  0.557955  0.549141  0.529749  0.562362  \n",
       "332  0.431027  0.451300  0.838255  0.557955  0.549141  0.529749  \n",
       "333  0.518290  0.431027  0.451300  0.838255  0.557955  0.549141  \n",
       "334  0.535919  0.518290  0.431027  0.451300  0.838255  0.557955  \n",
       "335  0.565888  0.535919  0.518290  0.431027  0.451300  0.838255  "
      ]
     },
     "execution_count": 8,
     "metadata": {},
     "output_type": "execute_result"
    }
   ],
   "source": [
    "dataset.tail(5)"
   ]
  },
  {
   "cell_type": "markdown",
   "metadata": {},
   "source": [
    "Dropping first 12 observations containing nan values since our lag here is 12 and re indexing so that the order of timeseries data doesnot change"
   ]
  },
  {
   "cell_type": "code",
   "execution_count": 9,
   "metadata": {},
   "outputs": [],
   "source": [
    "dataset=dataset[12:].reset_index(drop=True)"
   ]
  },
  {
   "cell_type": "markdown",
   "metadata": {},
   "source": [
    "The below splitted dataset will be used for feed forward nwural network "
   ]
  },
  {
   "cell_type": "code",
   "execution_count": 10,
   "metadata": {},
   "outputs": [],
   "source": [
    "#Splitting the dataset into train and test\n",
    "train_dataset = dataset.sample(frac=0.7,random_state=0)\n",
    "test_dataset = dataset.drop(train_dataset.index)\n",
    "\n",
    "train_labels = train_dataset.pop('LiquorSales')\n",
    "test_labels = test_dataset.pop('LiquorSales')"
   ]
  },
  {
   "cell_type": "markdown",
   "metadata": {},
   "source": [
    "Converting training and test labels into arrays and features into a 3 dimensional array as keras RNN, LSTM and GRU takes as input a 3 dimensional array"
   ]
  },
  {
   "cell_type": "code",
   "execution_count": 14,
   "metadata": {},
   "outputs": [],
   "source": [
    "trainX = np.array(train_dataset)\n",
    "testX = np.array(test_dataset)"
   ]
  },
  {
   "cell_type": "code",
   "execution_count": 15,
   "metadata": {},
   "outputs": [],
   "source": [
    "trainY= np.array(train_labels)\n",
    "testY= np.array(test_labels)"
   ]
  },
  {
   "cell_type": "markdown",
   "metadata": {},
   "source": [
    "Reshaping the features into 3D array with dimensions (number of observations, time steps , number of features)"
   ]
  },
  {
   "cell_type": "code",
   "execution_count": 16,
   "metadata": {},
   "outputs": [
    {
     "data": {
      "text/plain": [
       "(227, 1, 12)"
      ]
     },
     "execution_count": 16,
     "metadata": {},
     "output_type": "execute_result"
    }
   ],
   "source": [
    "trainX = np.reshape(trainX, (trainX.shape[0], 1, trainX.shape[1]))\n",
    "testX = np.reshape(testX, (testX.shape[0], 1, testX.shape[1]))\n",
    "trainX.shape"
   ]
  },
  {
   "cell_type": "markdown",
   "metadata": {},
   "source": [
    "The below class will be used for performance evaluation with respect to time elapsed while training the model to reach a minimum mean squared error across trained epochs"
   ]
  },
  {
   "cell_type": "code",
   "execution_count": 17,
   "metadata": {},
   "outputs": [],
   "source": [
    "#create a timehistory class to get a time for building a network\n",
    "class TimeHistory(keras.callbacks.Callback):\n",
    "    def on_train_begin(self, logs={}):\n",
    "        self.times = []\n",
    "\n",
    "    def on_epoch_begin(self, batch, logs={}):\n",
    "        self.epoch_time_start = time.time()\n",
    "\n",
    "    def on_epoch_end(self, batch, logs={}):\n",
    "        self.times.append(time.time() - self.epoch_time_start)"
   ]
  },
  {
   "cell_type": "markdown",
   "metadata": {},
   "source": [
    "### Model Performance Comparison (FNN,BPTT,LSTM,GRU)"
   ]
  },
  {
   "cell_type": "markdown",
   "metadata": {},
   "source": [
    "For comparing model performance across different networks we will consider 2 types of comparison :<br><br>\n",
    "    1.Qualitative(Least MSE) : Determining which model reaches a competitive MSE across when trained across same number of epochs and batch size. The model coverging faster to the minimum mse will be rated higher.<br>\n",
    "    2.Computational Effort : The model taking lesser amount of time to build, resulting lesser mse score will be rated higher in this type.<br><br>\n",
    "We will decide the best model for this problem statement based on the tradeoff between the above two scenarios"
   ]
  },
  {
   "cell_type": "markdown",
   "metadata": {},
   "source": [
    "### a. Feed Forward Network (Plain Back Propagation)"
   ]
  },
  {
   "cell_type": "markdown",
   "metadata": {},
   "source": [
    "For this problem statement we will create a n-2n-1 feed forward neural network since we have our feature vector considering lags from past 12 months as feature inputs so will be our input shape for the dense layer."
   ]
  },
  {
   "cell_type": "code",
   "execution_count": 18,
   "metadata": {},
   "outputs": [],
   "source": [
    "np.random.seed(11)\n",
    "tf.random.set_seed(11)"
   ]
  },
  {
   "cell_type": "code",
   "execution_count": 20,
   "metadata": {},
   "outputs": [],
   "source": [
    "def create_model_fnn():\n",
    "  model = keras.Sequential([\n",
    "    layers.Dense(24, activation='tanh', input_shape=[len(train_dataset.keys())]),\n",
    "    layers.Dense(1)\n",
    "  ])\n",
    "\n",
    "\n",
    "  model.compile(loss='mse',\n",
    "                optimizer=\"adam\",\n",
    "                metrics=['mse'])\n",
    "  return model"
   ]
  },
  {
   "cell_type": "code",
   "execution_count": 21,
   "metadata": {},
   "outputs": [
    {
     "name": "stdout",
     "output_type": "stream",
     "text": [
      "Model: \"sequential\"\n",
      "_________________________________________________________________\n",
      "Layer (type)                 Output Shape              Param #   \n",
      "=================================================================\n",
      "dense (Dense)                (None, 24)                312       \n",
      "_________________________________________________________________\n",
      "dense_1 (Dense)              (None, 1)                 25        \n",
      "=================================================================\n",
      "Total params: 337\n",
      "Trainable params: 337\n",
      "Non-trainable params: 0\n",
      "_________________________________________________________________\n"
     ]
    }
   ],
   "source": [
    "#Looking at the neural network model features (shapes and parameters)\n",
    "ff_model = create_model_fnn()\n",
    "ff_model.summary()"
   ]
  },
  {
   "cell_type": "code",
   "execution_count": 22,
   "metadata": {},
   "outputs": [
    {
     "name": "stdout",
     "output_type": "stream",
     "text": [
      "\n",
      "Epoch: 0, loss:0.0425,  mse:0.0425,  val_loss:0.0308,  val_mse:0.0308,  \n",
      "....................................................................................................\n",
      "Epoch: 100, loss:0.0011,  mse:0.0011,  val_loss:0.0015,  val_mse:0.0015,  \n",
      "....................................................................................................\n",
      "Epoch: 200, loss:0.0012,  mse:0.0012,  val_loss:0.0018,  val_mse:0.0018,  \n",
      "....................................................................................................\n",
      "Epoch: 300, loss:0.0012,  mse:0.0012,  val_loss:0.0015,  val_mse:0.0015,  \n",
      "...................................................................................................."
     ]
    }
   ],
   "source": [
    "# Training the fnn model\n",
    "EPOCHS = 400\n",
    "time_callback1 = TimeHistory()\n",
    "\n",
    "history = ff_model.fit(\n",
    "  train_dataset, train_labels,\n",
    "  epochs=EPOCHS, validation_data = (test_dataset,test_labels), verbose=0,\n",
    "  callbacks=[tfdocs.modeling.EpochDots(), time_callback1], batch_size=12)"
   ]
  },
  {
   "cell_type": "code",
   "execution_count": 23,
   "metadata": {},
   "outputs": [
    {
     "data": {
      "text/html": [
       "<div>\n",
       "<style scoped>\n",
       "    .dataframe tbody tr th:only-of-type {\n",
       "        vertical-align: middle;\n",
       "    }\n",
       "\n",
       "    .dataframe tbody tr th {\n",
       "        vertical-align: top;\n",
       "    }\n",
       "\n",
       "    .dataframe thead th {\n",
       "        text-align: right;\n",
       "    }\n",
       "</style>\n",
       "<table border=\"1\" class=\"dataframe\">\n",
       "  <thead>\n",
       "    <tr style=\"text-align: right;\">\n",
       "      <th></th>\n",
       "      <th>loss</th>\n",
       "      <th>mse</th>\n",
       "      <th>val_loss</th>\n",
       "      <th>val_mse</th>\n",
       "      <th>epoch</th>\n",
       "    </tr>\n",
       "  </thead>\n",
       "  <tbody>\n",
       "    <tr>\n",
       "      <th>395</th>\n",
       "      <td>0.000984</td>\n",
       "      <td>0.000984</td>\n",
       "      <td>0.002025</td>\n",
       "      <td>0.002025</td>\n",
       "      <td>395</td>\n",
       "    </tr>\n",
       "    <tr>\n",
       "      <th>396</th>\n",
       "      <td>0.000986</td>\n",
       "      <td>0.000986</td>\n",
       "      <td>0.001521</td>\n",
       "      <td>0.001521</td>\n",
       "      <td>396</td>\n",
       "    </tr>\n",
       "    <tr>\n",
       "      <th>397</th>\n",
       "      <td>0.001038</td>\n",
       "      <td>0.001038</td>\n",
       "      <td>0.001993</td>\n",
       "      <td>0.001993</td>\n",
       "      <td>397</td>\n",
       "    </tr>\n",
       "    <tr>\n",
       "      <th>398</th>\n",
       "      <td>0.001159</td>\n",
       "      <td>0.001159</td>\n",
       "      <td>0.001774</td>\n",
       "      <td>0.001774</td>\n",
       "      <td>398</td>\n",
       "    </tr>\n",
       "    <tr>\n",
       "      <th>399</th>\n",
       "      <td>0.001333</td>\n",
       "      <td>0.001333</td>\n",
       "      <td>0.003122</td>\n",
       "      <td>0.003122</td>\n",
       "      <td>399</td>\n",
       "    </tr>\n",
       "  </tbody>\n",
       "</table>\n",
       "</div>"
      ],
      "text/plain": [
       "         loss       mse  val_loss   val_mse  epoch\n",
       "395  0.000984  0.000984  0.002025  0.002025    395\n",
       "396  0.000986  0.000986  0.001521  0.001521    396\n",
       "397  0.001038  0.001038  0.001993  0.001993    397\n",
       "398  0.001159  0.001159  0.001774  0.001774    398\n",
       "399  0.001333  0.001333  0.003122  0.003122    399"
      ]
     },
     "execution_count": 23,
     "metadata": {},
     "output_type": "execute_result"
    }
   ],
   "source": [
    "#looking at the improvement in MSE (learning) at the end of our training\n",
    "\n",
    "hist_info = pd.DataFrame(history.history)\n",
    "hist_info['epoch'] = history.epoch\n",
    "hist_info.tail()"
   ]
  },
  {
   "cell_type": "code",
   "execution_count": 59,
   "metadata": {},
   "outputs": [
    {
     "name": "stdout",
     "output_type": "stream",
     "text": [
      "BEST MSE of FNN : 0.00312247802503407\n"
     ]
    }
   ],
   "source": [
    "print(\"BEST MSE of FNN :\", history.history.get('val_loss')[-1])"
   ]
  },
  {
   "cell_type": "markdown",
   "metadata": {},
   "source": [
    "The below graph shows the variation mse with plain back propagation. Manual tuning for parameter activation function(\"sigmoid\",\"tanh\") was done with \"SGD\" and \"adam\" as optimizer. The best model performed with activation function as \"tanh\" and optimizer as \"adam\" with MSE score 0.003"
   ]
  },
  {
   "cell_type": "code",
   "execution_count": 24,
   "metadata": {},
   "outputs": [
    {
     "data": {
      "text/plain": [
       "Text(0, 0.5, 'MSE [LiquorSales]')"
      ]
     },
     "execution_count": 24,
     "metadata": {},
     "output_type": "execute_result"
    },
    {
     "data": {
      "image/png": "[encoded data removed]",
      "text/plain": [
       "<Figure size 432x288 with 1 Axes>"
      ]
     },
     "metadata": {
      "needs_background": "light"
     },
     "output_type": "display_data"
    }
   ],
   "source": [
    "#Results: MSE on the y-axis, Number of weight updates on the x-axis(epochs)\n",
    "\n",
    "history_plotter = tfdocs.plots.HistoryPlotter(smoothing_std=2)\n",
    "history_plotter.plot({'Base': history}, metric = \"mse\")\n",
    "plt.ylim([0, 0.012])\n",
    "plt.ylabel('MSE [LiquorSales]')"
   ]
  },
  {
   "cell_type": "markdown",
   "metadata": {},
   "source": [
    "### b. RNN (Back Propagation through time)"
   ]
  },
  {
   "cell_type": "code",
   "execution_count": 25,
   "metadata": {},
   "outputs": [],
   "source": [
    "np.random.seed(121)\n",
    "tf.random.set_seed(121)"
   ]
  },
  {
   "cell_type": "markdown",
   "metadata": {},
   "source": [
    "Keras RNN module takes 3 dimensional inputs(no. of observations, step size, number of features). We will use our 3D numpy array features prepared earlier for this purpose"
   ]
  },
  {
   "cell_type": "code",
   "execution_count": 26,
   "metadata": {},
   "outputs": [
    {
     "data": {
      "text/plain": [
       "(227, 1, 12)"
      ]
     },
     "execution_count": 26,
     "metadata": {},
     "output_type": "execute_result"
    }
   ],
   "source": [
    "trainX.shape"
   ]
  },
  {
   "cell_type": "code",
   "execution_count": 28,
   "metadata": {},
   "outputs": [
    {
     "name": "stdout",
     "output_type": "stream",
     "text": [
      "Model: \"sequential_1\"\n",
      "_________________________________________________________________\n",
      "Layer (type)                 Output Shape              Param #   \n",
      "=================================================================\n",
      "simple_rnn_1 (SimpleRNN)     (None, 1)                 14        \n",
      "_________________________________________________________________\n",
      "dense_1 (Dense)              (None, 1)                 2         \n",
      "=================================================================\n",
      "Total params: 16\n",
      "Trainable params: 16\n",
      "Non-trainable params: 0\n",
      "_________________________________________________________________\n"
     ]
    }
   ],
   "source": [
    "# SimpleRNN model\n",
    "model_rnn = Sequential()\n",
    "model_rnn.add(SimpleRNN(units=1, input_shape=(trainX.shape[1],trainX.shape[2]), activation = 'tanh'))\n",
    "model_rnn.add(Dense(1)) \n",
    "model_rnn.compile(loss='mse', optimizer=\"adam\", metrics=['mse'])\n",
    "model_rnn.summary()"
   ]
  },
  {
   "cell_type": "code",
   "execution_count": 29,
   "metadata": {},
   "outputs": [
    {
     "name": "stdout",
     "output_type": "stream",
     "text": [
      "\n",
      "Epoch: 0, loss:0.0998,  mse:0.0998,  val_loss:0.0824,  val_mse:0.0824,  \n",
      "....................................................................................................\n",
      "Epoch: 100, loss:0.0057,  mse:0.0057,  val_loss:0.0075,  val_mse:0.0075,  \n",
      "....................................................................................................\n",
      "Epoch: 200, loss:0.0035,  mse:0.0035,  val_loss:0.0048,  val_mse:0.0048,  \n",
      "....................................................................................................\n",
      "Epoch: 300, loss:0.0014,  mse:0.0014,  val_loss:0.0022,  val_mse:0.0022,  \n",
      "...................................................................................................."
     ]
    }
   ],
   "source": [
    "EPOCHS = 400\n",
    "time_callback2 = TimeHistory()\n",
    "history2 = model_rnn.fit(\n",
    "  trainX, trainY,\n",
    "  epochs=EPOCHS, validation_data = (testX,testY), verbose=0,\n",
    "  callbacks=[tfdocs.modeling.EpochDots(),time_callback2], batch_size=12)"
   ]
  },
  {
   "cell_type": "code",
   "execution_count": 30,
   "metadata": {},
   "outputs": [
    {
     "data": {
      "text/html": [
       "<div>\n",
       "<style scoped>\n",
       "    .dataframe tbody tr th:only-of-type {\n",
       "        vertical-align: middle;\n",
       "    }\n",
       "\n",
       "    .dataframe tbody tr th {\n",
       "        vertical-align: top;\n",
       "    }\n",
       "\n",
       "    .dataframe thead th {\n",
       "        text-align: right;\n",
       "    }\n",
       "</style>\n",
       "<table border=\"1\" class=\"dataframe\">\n",
       "  <thead>\n",
       "    <tr style=\"text-align: right;\">\n",
       "      <th></th>\n",
       "      <th>val_loss</th>\n",
       "      <th>val_mse</th>\n",
       "      <th>loss</th>\n",
       "      <th>mse</th>\n",
       "      <th>epoch</th>\n",
       "    </tr>\n",
       "  </thead>\n",
       "  <tbody>\n",
       "    <tr>\n",
       "      <th>395</th>\n",
       "      <td>0.001618</td>\n",
       "      <td>0.001618</td>\n",
       "      <td>0.000991</td>\n",
       "      <td>0.000991</td>\n",
       "      <td>395</td>\n",
       "    </tr>\n",
       "    <tr>\n",
       "      <th>396</th>\n",
       "      <td>0.001627</td>\n",
       "      <td>0.001627</td>\n",
       "      <td>0.000953</td>\n",
       "      <td>0.000953</td>\n",
       "      <td>396</td>\n",
       "    </tr>\n",
       "    <tr>\n",
       "      <th>397</th>\n",
       "      <td>0.001621</td>\n",
       "      <td>0.001621</td>\n",
       "      <td>0.000949</td>\n",
       "      <td>0.000949</td>\n",
       "      <td>397</td>\n",
       "    </tr>\n",
       "    <tr>\n",
       "      <th>398</th>\n",
       "      <td>0.001623</td>\n",
       "      <td>0.001623</td>\n",
       "      <td>0.000953</td>\n",
       "      <td>0.000953</td>\n",
       "      <td>398</td>\n",
       "    </tr>\n",
       "    <tr>\n",
       "      <th>399</th>\n",
       "      <td>0.001659</td>\n",
       "      <td>0.001659</td>\n",
       "      <td>0.000959</td>\n",
       "      <td>0.000959</td>\n",
       "      <td>399</td>\n",
       "    </tr>\n",
       "  </tbody>\n",
       "</table>\n",
       "</div>"
      ],
      "text/plain": [
       "     val_loss   val_mse      loss       mse  epoch\n",
       "395  0.001618  0.001618  0.000991  0.000991    395\n",
       "396  0.001627  0.001627  0.000953  0.000953    396\n",
       "397  0.001621  0.001621  0.000949  0.000949    397\n",
       "398  0.001623  0.001623  0.000953  0.000953    398\n",
       "399  0.001659  0.001659  0.000959  0.000959    399"
      ]
     },
     "execution_count": 30,
     "metadata": {},
     "output_type": "execute_result"
    }
   ],
   "source": [
    "#looking at the improvement in MSE (learning) at the end of our training\n",
    "\n",
    "hist_info2 = pd.DataFrame(history2.history)\n",
    "hist_info2['epoch'] = history2.epoch\n",
    "hist_info2.tail()"
   ]
  },
  {
   "cell_type": "code",
   "execution_count": 61,
   "metadata": {},
   "outputs": [
    {
     "name": "stdout",
     "output_type": "stream",
     "text": [
      "BEST MSE of BPTT(Simple RNN) : 0.0016585167243263021\n"
     ]
    }
   ],
   "source": [
    "print(\"BEST MSE of BPTT(Simple RNN) :\", history2.history.get('val_loss')[-1])"
   ]
  },
  {
   "cell_type": "markdown",
   "metadata": {},
   "source": [
    "The best model performed with 0.0016 MSE. The below graph shows the variation mse with back propagation through time using Simple RNN. The parameters \"tanh\" as activation and \"adam\" as optimizer performed best with manual tuning."
   ]
  },
  {
   "cell_type": "code",
   "execution_count": 31,
   "metadata": {
    "scrolled": true
   },
   "outputs": [
    {
     "data": {
      "text/plain": [
       "Text(0, 0.5, 'MSE [LiquorSales]')"
      ]
     },
     "execution_count": 31,
     "metadata": {},
     "output_type": "execute_result"
    },
    {
     "data": {
      "image/png": "[encoded data removed]",
      "text/plain": [
       "<Figure size 432x288 with 1 Axes>"
      ]
     },
     "metadata": {
      "needs_background": "light"
     },
     "output_type": "display_data"
    }
   ],
   "source": [
    "#Results: MSE on the y-axis, Number of weight updates on the x-axis(epochs)\n",
    "history_plotter2 = tfdocs.plots.HistoryPlotter(smoothing_std=2)\n",
    "history_plotter2.plot({'Base': history2}, metric = \"mse\")\n",
    "plt.ylim([0, 0.02])\n",
    "plt.ylabel('MSE [LiquorSales]')"
   ]
  },
  {
   "cell_type": "markdown",
   "metadata": {},
   "source": [
    "### c. LSTM"
   ]
  },
  {
   "cell_type": "code",
   "execution_count": 32,
   "metadata": {},
   "outputs": [],
   "source": [
    "np.random.seed(132)\n",
    "tf.random.set_seed(132)"
   ]
  },
  {
   "cell_type": "markdown",
   "metadata": {},
   "source": [
    "\n",
    "Creating LSTM model with 1 LSTM unit. In Keras LSTM model also consumes features in 3 dimensional array format."
   ]
  },
  {
   "cell_type": "code",
   "execution_count": 33,
   "metadata": {},
   "outputs": [
    {
     "data": {
      "text/plain": [
       "(227, 1, 12)"
      ]
     },
     "execution_count": 33,
     "metadata": {},
     "output_type": "execute_result"
    }
   ],
   "source": [
    "trainX.shape"
   ]
  },
  {
   "cell_type": "code",
   "execution_count": 34,
   "metadata": {},
   "outputs": [
    {
     "name": "stdout",
     "output_type": "stream",
     "text": [
      "Model: \"sequential_2\"\n",
      "_________________________________________________________________\n",
      "Layer (type)                 Output Shape              Param #   \n",
      "=================================================================\n",
      "lstm_1 (LSTM)                (None, 1)                 56        \n",
      "_________________________________________________________________\n",
      "dense_2 (Dense)              (None, 1)                 2         \n",
      "=================================================================\n",
      "Total params: 58\n",
      "Trainable params: 58\n",
      "Non-trainable params: 0\n",
      "_________________________________________________________________\n"
     ]
    }
   ],
   "source": [
    "model_lstm = Sequential()\n",
    "model_lstm.add(LSTM(1, input_shape=(trainX.shape[1],trainX.shape[2]),activation='tanh'))\n",
    "model_lstm.add(Dense(1))\n",
    "model_lstm.compile(loss='mse', optimizer=\"adam\", metrics=['mse'])\n",
    "model_lstm.summary()\n"
   ]
  },
  {
   "cell_type": "code",
   "execution_count": 35,
   "metadata": {},
   "outputs": [
    {
     "name": "stdout",
     "output_type": "stream",
     "text": [
      "\n",
      "Epoch: 0, loss:0.1826,  mse:0.1826,  val_loss:0.1969,  val_mse:0.1969,  \n",
      "....................................................................................................\n",
      "Epoch: 100, loss:0.0053,  mse:0.0053,  val_loss:0.0081,  val_mse:0.0081,  \n",
      "....................................................................................................\n",
      "Epoch: 200, loss:0.0027,  mse:0.0027,  val_loss:0.0042,  val_mse:0.0042,  \n",
      "....................................................................................................\n",
      "Epoch: 300, loss:0.0013,  mse:0.0013,  val_loss:0.0021,  val_mse:0.0021,  \n",
      "...................................................................................................."
     ]
    }
   ],
   "source": [
    "\n",
    "EPOCHS = 400\n",
    "time_callback3 = TimeHistory()\n",
    "history3 = model_lstm.fit(\n",
    "  trainX, trainY,\n",
    "  epochs=EPOCHS, validation_data = (testX,testY), verbose=0,\n",
    "  callbacks=[tfdocs.modeling.EpochDots(),time_callback3], batch_size=12)"
   ]
  },
  {
   "cell_type": "code",
   "execution_count": 36,
   "metadata": {},
   "outputs": [
    {
     "data": {
      "text/html": [
       "<div>\n",
       "<style scoped>\n",
       "    .dataframe tbody tr th:only-of-type {\n",
       "        vertical-align: middle;\n",
       "    }\n",
       "\n",
       "    .dataframe tbody tr th {\n",
       "        vertical-align: top;\n",
       "    }\n",
       "\n",
       "    .dataframe thead th {\n",
       "        text-align: right;\n",
       "    }\n",
       "</style>\n",
       "<table border=\"1\" class=\"dataframe\">\n",
       "  <thead>\n",
       "    <tr style=\"text-align: right;\">\n",
       "      <th></th>\n",
       "      <th>val_loss</th>\n",
       "      <th>val_mse</th>\n",
       "      <th>loss</th>\n",
       "      <th>mse</th>\n",
       "      <th>epoch</th>\n",
       "    </tr>\n",
       "  </thead>\n",
       "  <tbody>\n",
       "    <tr>\n",
       "      <th>395</th>\n",
       "      <td>0.001918</td>\n",
       "      <td>0.001918</td>\n",
       "      <td>0.000985</td>\n",
       "      <td>0.000985</td>\n",
       "      <td>395</td>\n",
       "    </tr>\n",
       "    <tr>\n",
       "      <th>396</th>\n",
       "      <td>0.001752</td>\n",
       "      <td>0.001752</td>\n",
       "      <td>0.001028</td>\n",
       "      <td>0.001028</td>\n",
       "      <td>396</td>\n",
       "    </tr>\n",
       "    <tr>\n",
       "      <th>397</th>\n",
       "      <td>0.001734</td>\n",
       "      <td>0.001734</td>\n",
       "      <td>0.000993</td>\n",
       "      <td>0.000993</td>\n",
       "      <td>397</td>\n",
       "    </tr>\n",
       "    <tr>\n",
       "      <th>398</th>\n",
       "      <td>0.001807</td>\n",
       "      <td>0.001807</td>\n",
       "      <td>0.001002</td>\n",
       "      <td>0.001002</td>\n",
       "      <td>398</td>\n",
       "    </tr>\n",
       "    <tr>\n",
       "      <th>399</th>\n",
       "      <td>0.001770</td>\n",
       "      <td>0.001770</td>\n",
       "      <td>0.001009</td>\n",
       "      <td>0.001009</td>\n",
       "      <td>399</td>\n",
       "    </tr>\n",
       "  </tbody>\n",
       "</table>\n",
       "</div>"
      ],
      "text/plain": [
       "     val_loss   val_mse      loss       mse  epoch\n",
       "395  0.001918  0.001918  0.000985  0.000985    395\n",
       "396  0.001752  0.001752  0.001028  0.001028    396\n",
       "397  0.001734  0.001734  0.000993  0.000993    397\n",
       "398  0.001807  0.001807  0.001002  0.001002    398\n",
       "399  0.001770  0.001770  0.001009  0.001009    399"
      ]
     },
     "execution_count": 36,
     "metadata": {},
     "output_type": "execute_result"
    }
   ],
   "source": [
    "#looking at the improvement in MSE (learning) at the end of our training\n",
    "\n",
    "hist_info3 = pd.DataFrame(history3.history)\n",
    "hist_info3['epoch'] = history3.epoch\n",
    "hist_info3.tail()"
   ]
  },
  {
   "cell_type": "code",
   "execution_count": 62,
   "metadata": {},
   "outputs": [
    {
     "name": "stdout",
     "output_type": "stream",
     "text": [
      "BEST MSE of LSTM : 0.0017700497248238816\n"
     ]
    }
   ],
   "source": [
    "print(\"BEST MSE of LSTM :\", history3.history.get('val_loss')[-1])"
   ]
  },
  {
   "cell_type": "markdown",
   "metadata": {},
   "source": [
    "The best model performed with 0.0017 MSE. The below graph shows the variation mse with back propagation through time using LSTM."
   ]
  },
  {
   "cell_type": "code",
   "execution_count": 37,
   "metadata": {},
   "outputs": [
    {
     "data": {
      "text/plain": [
       "Text(0, 0.5, 'MSE [LiquorSales]')"
      ]
     },
     "execution_count": 37,
     "metadata": {},
     "output_type": "execute_result"
    },
    {
     "data": {
      "image/png": "[encoded data removed]",
      "text/plain": [
       "<Figure size 432x288 with 1 Axes>"
      ]
     },
     "metadata": {
      "needs_background": "light"
     },
     "output_type": "display_data"
    }
   ],
   "source": [
    "#Results: MSE on the y-axis, Number of weight updates on the x-axis(epochs)\n",
    "history_plotter3 = tfdocs.plots.HistoryPlotter(smoothing_std=2)\n",
    "history_plotter3.plot({'Base': history3}, metric = \"mse\")\n",
    "plt.ylim([0, 0.07])\n",
    "plt.ylabel('MSE [LiquorSales]')"
   ]
  },
  {
   "cell_type": "markdown",
   "metadata": {},
   "source": [
    "### d. GRU"
   ]
  },
  {
   "cell_type": "code",
   "execution_count": 38,
   "metadata": {},
   "outputs": [],
   "source": [
    "np.random.seed(125)\n",
    "tf.random.set_seed(125)"
   ]
  },
  {
   "cell_type": "markdown",
   "metadata": {},
   "source": [
    "Creating GRU model with 1 GRU unit. In Keras GRU model also consumes features in 3 dimensional array format."
   ]
  },
  {
   "cell_type": "code",
   "execution_count": 39,
   "metadata": {},
   "outputs": [
    {
     "name": "stdout",
     "output_type": "stream",
     "text": [
      "Model: \"sequential_3\"\n",
      "_________________________________________________________________\n",
      "Layer (type)                 Output Shape              Param #   \n",
      "=================================================================\n",
      "gru_1 (GRU)                  (None, 1)                 42        \n",
      "_________________________________________________________________\n",
      "dense_3 (Dense)              (None, 1)                 2         \n",
      "=================================================================\n",
      "Total params: 44\n",
      "Trainable params: 44\n",
      "Non-trainable params: 0\n",
      "_________________________________________________________________\n"
     ]
    }
   ],
   "source": [
    "# Create GRU model\n",
    "model_gru = Sequential()\n",
    "model_gru.add(GRU(1, input_shape=(trainX.shape[1],trainX.shape[2]), activation='tanh'))\n",
    "model_gru.add(Dense(1))\n",
    "model_gru.compile(loss='mse', optimizer=\"adam\", metrics=['mse'])\n",
    "model_gru.summary()"
   ]
  },
  {
   "cell_type": "code",
   "execution_count": 40,
   "metadata": {},
   "outputs": [
    {
     "name": "stdout",
     "output_type": "stream",
     "text": [
      "\n",
      "Epoch: 0, loss:0.3859,  mse:0.3859,  val_loss:0.3935,  val_mse:0.3935,  \n",
      "....................................................................................................\n",
      "Epoch: 100, loss:0.0064,  mse:0.0064,  val_loss:0.0096,  val_mse:0.0096,  \n",
      "....................................................................................................\n",
      "Epoch: 200, loss:0.0032,  mse:0.0032,  val_loss:0.0051,  val_mse:0.0051,  \n",
      "....................................................................................................\n",
      "Epoch: 300, loss:0.0013,  mse:0.0013,  val_loss:0.0023,  val_mse:0.0023,  \n",
      "...................................................................................................."
     ]
    }
   ],
   "source": [
    "EPOCHS = 400\n",
    "time_callback4 = TimeHistory()\n",
    "history4 = model_gru.fit(\n",
    "  trainX, trainY,\n",
    "  epochs=EPOCHS, validation_data = (testX,testY), verbose=0,\n",
    "  callbacks=[tfdocs.modeling.EpochDots(),time_callback4], batch_size=12)"
   ]
  },
  {
   "cell_type": "code",
   "execution_count": 41,
   "metadata": {},
   "outputs": [
    {
     "data": {
      "text/html": [
       "<div>\n",
       "<style scoped>\n",
       "    .dataframe tbody tr th:only-of-type {\n",
       "        vertical-align: middle;\n",
       "    }\n",
       "\n",
       "    .dataframe tbody tr th {\n",
       "        vertical-align: top;\n",
       "    }\n",
       "\n",
       "    .dataframe thead th {\n",
       "        text-align: right;\n",
       "    }\n",
       "</style>\n",
       "<table border=\"1\" class=\"dataframe\">\n",
       "  <thead>\n",
       "    <tr style=\"text-align: right;\">\n",
       "      <th></th>\n",
       "      <th>val_loss</th>\n",
       "      <th>val_mse</th>\n",
       "      <th>loss</th>\n",
       "      <th>mse</th>\n",
       "      <th>epoch</th>\n",
       "    </tr>\n",
       "  </thead>\n",
       "  <tbody>\n",
       "    <tr>\n",
       "      <th>395</th>\n",
       "      <td>0.001860</td>\n",
       "      <td>0.001860</td>\n",
       "      <td>0.001003</td>\n",
       "      <td>0.001003</td>\n",
       "      <td>395</td>\n",
       "    </tr>\n",
       "    <tr>\n",
       "      <th>396</th>\n",
       "      <td>0.001723</td>\n",
       "      <td>0.001723</td>\n",
       "      <td>0.001026</td>\n",
       "      <td>0.001026</td>\n",
       "      <td>396</td>\n",
       "    </tr>\n",
       "    <tr>\n",
       "      <th>397</th>\n",
       "      <td>0.001716</td>\n",
       "      <td>0.001716</td>\n",
       "      <td>0.001004</td>\n",
       "      <td>0.001004</td>\n",
       "      <td>397</td>\n",
       "    </tr>\n",
       "    <tr>\n",
       "      <th>398</th>\n",
       "      <td>0.001914</td>\n",
       "      <td>0.001914</td>\n",
       "      <td>0.001043</td>\n",
       "      <td>0.001043</td>\n",
       "      <td>398</td>\n",
       "    </tr>\n",
       "    <tr>\n",
       "      <th>399</th>\n",
       "      <td>0.001844</td>\n",
       "      <td>0.001844</td>\n",
       "      <td>0.001095</td>\n",
       "      <td>0.001095</td>\n",
       "      <td>399</td>\n",
       "    </tr>\n",
       "  </tbody>\n",
       "</table>\n",
       "</div>"
      ],
      "text/plain": [
       "     val_loss   val_mse      loss       mse  epoch\n",
       "395  0.001860  0.001860  0.001003  0.001003    395\n",
       "396  0.001723  0.001723  0.001026  0.001026    396\n",
       "397  0.001716  0.001716  0.001004  0.001004    397\n",
       "398  0.001914  0.001914  0.001043  0.001043    398\n",
       "399  0.001844  0.001844  0.001095  0.001095    399"
      ]
     },
     "execution_count": 41,
     "metadata": {},
     "output_type": "execute_result"
    }
   ],
   "source": [
    "#looking at the improvement in MSE (learning) at the end of our training\n",
    "\n",
    "hist_info4 = pd.DataFrame(history4.history)\n",
    "hist_info4['epoch'] = history4.epoch\n",
    "hist_info4.tail()"
   ]
  },
  {
   "cell_type": "code",
   "execution_count": 64,
   "metadata": {},
   "outputs": [
    {
     "name": "stdout",
     "output_type": "stream",
     "text": [
      "BEST MSE of LSTM : 0.0018437132415614935\n"
     ]
    }
   ],
   "source": [
    "print(\"BEST MSE of LSTM :\", history4.history.get('val_loss')[-1])"
   ]
  },
  {
   "cell_type": "markdown",
   "metadata": {},
   "source": [
    "The best model performed with 0.0018 MSE. The below graph shows the variation of mse with back propagation through time using GRU."
   ]
  },
  {
   "cell_type": "code",
   "execution_count": 42,
   "metadata": {},
   "outputs": [
    {
     "data": {
      "text/plain": [
       "Text(0, 0.5, 'MSE [LiquorSales]')"
      ]
     },
     "execution_count": 42,
     "metadata": {},
     "output_type": "execute_result"
    },
    {
     "data": {
      "image/png": "[encoded data removed]",
      "text/plain": [
       "<Figure size 432x288 with 1 Axes>"
      ]
     },
     "metadata": {
      "needs_background": "light"
     },
     "output_type": "display_data"
    }
   ],
   "source": [
    "#Results: MSE on the y-axis, Number of weight updates on the x-axis(epochs)\n",
    "history_plotter4 = tfdocs.plots.HistoryPlotter(smoothing_std=2)\n",
    "history_plotter4.plot({'Base': history4}, metric = \"mse\")\n",
    "plt.ylim([0, 0.04])\n",
    "plt.ylabel('MSE [LiquorSales]')"
   ]
  },
  {
   "cell_type": "markdown",
   "metadata": {},
   "source": [
    "### Model Performance Comparison"
   ]
  },
  {
   "cell_type": "markdown",
   "metadata": {},
   "source": [
    "#### 1. MSE Comparison (Qualitative) : The below graph shows the comparison and competition between keras sequential models Feed Forward Neural Network, Simple RNN, LSTM, GRU on validation MSE across 400 Epochs<br>\n"
   ]
  },
  {
   "cell_type": "code",
   "execution_count": 43,
   "metadata": {},
   "outputs": [
    {
     "data": {
      "image/png": "[encoded data removed]",
      "text/plain": [
       "<Figure size 432x288 with 1 Axes>"
      ]
     },
     "metadata": {
      "needs_background": "light"
     },
     "output_type": "display_data"
    }
   ],
   "source": [
    "plt.plot(history.history.get('val_loss'))\n",
    "plt.plot(history2.history.get('val_loss'))\n",
    "plt.plot(history3.history.get('val_loss'))\n",
    "plt.plot(history4.history.get('val_loss'))\n",
    "plt.xlabel('Number of epochs')\n",
    "plt.ylabel('Mean_Squarred_Error')\n",
    "plt.title('comparison between different model\\'s change in MSE with epoch')\n",
    "plt.legend(['val_fnn', 'val_bptt','val_lstm','val_gru'], loc='upper right')\n",
    "plt.ylim([0, 0.02])\n",
    "plt.show()"
   ]
  },
  {
   "cell_type": "markdown",
   "metadata": {},
   "source": [
    "We can clearly see that feed forward neural network reaches the minimum MSE the quickest followed by LSTM which outperforms Simple RNN(BPTT) after almost 130 epochs and GRU at the last <br>\n",
    "Model Rank : Feed Forward Network > LSTM > BPTT > GRU"
   ]
  },
  {
   "cell_type": "markdown",
   "metadata": {},
   "source": [
    "#### 2. Computational Effort (Time Elapsed) : The below graph shows the comparison and competition between keras sequential models Feed Forward Neural Network, Simple RNN, LSTM, GRU on time taken to build and reach a better MSE<br>"
   ]
  },
  {
   "cell_type": "code",
   "execution_count": 71,
   "metadata": {},
   "outputs": [],
   "source": [
    "fnn_time = list(time_callback1.times)\n",
    "rnn_time = list(time_callback2.times)\n",
    "lstm_time = list(time_callback3.times)\n",
    "gru_time = list(time_callback4.times)\n",
    "t_elapsed = [sum(fnn_time), sum(rnn_time), sum(lstm_time), sum(gru_time)]\n",
    "val_mse_all = [history.history.get('val_loss')[-1],history2.history.get('val_loss')[-1],history3.history.get('val_loss')[-1],history4.history.get('val_loss')[-1]]\n",
    "models = ['FNN', 'RNN', 'LSTM', 'GRU']"
   ]
  },
  {
   "cell_type": "code",
   "execution_count": 83,
   "metadata": {},
   "outputs": [
    {
     "data": {
      "text/plain": [
       "0.0018437132415614935"
      ]
     },
     "execution_count": 83,
     "metadata": {},
     "output_type": "execute_result"
    }
   ],
   "source": [
    "history4.history.get('val_loss')[-1]"
   ]
  },
  {
   "cell_type": "code",
   "execution_count": 72,
   "metadata": {},
   "outputs": [
    {
     "data": {
      "image/png": "[encoded data removed]",
      "text/plain": [
       "<Figure size 432x288 with 1 Axes>"
      ]
     },
     "metadata": {
      "needs_background": "light"
     },
     "output_type": "display_data"
    }
   ],
   "source": [
    "fig, ax = plt.subplots()\n",
    "ax.scatter(val_mse_all, t_elapsed)\n",
    "plt.ylabel('Total time elasped for building a model')\n",
    "plt.xlabel('MSE')\n",
    "\n",
    "for i, txt in enumerate(models):\n",
    "    ax.annotate(txt, (val_mse_all[i], t_elapsed[i]))"
   ]
  },
  {
   "cell_type": "markdown",
   "metadata": {},
   "source": [
    "We can clearly see that BPTT(Simple RNN) takes least amount of time reaching the least MSE compared to other models. GRU and LSTM have lesser MSE compared to Plain Back Propagating Feed Forward Network but takes maximum amount of computaional time to build.<br>\n",
    "Model Rank : BPTT(SimpleRNN) > LSTM > GRU > FNN"
   ]
  },
  {
   "cell_type": "markdown",
   "metadata": {},
   "source": [
    "### Conclusion :<br>\n",
    "Looking at the two types of performance comparison we can conclude reaching a trade off that LSTM model performs decent holding second position in both comparison types. Hence we can choose LSTM as best model for this problem statement of forcasting Liquor Sales in United States between 1980 to 2007 sales data <br>\n",
    "\n"
   ]
  },
  {
   "attachments": {
    "image.png": {
     "image/png": "[encoded data removed]"
    }
   },
   "cell_type": "markdown",
   "metadata": {},
   "source": [
    "![image.png](attachment:image.png)"
   ]
  },
  {
   "cell_type": "markdown",
   "metadata": {},
   "source": [
    "### References : <br>\n",
    "https://www.tensorflow.org/api_docs/python/tf/keras/layers/LSTM <br>\n",
    "https://machinelearningmastery.com/time-series-prediction-lstm-recurrent-neural-networks-python-keras/ <br>\n",
    "https://adventuresinmachinelearning.com/recurrent-neural-networks-lstm-tutorial-tensorflow/ <br>\n",
    "https://medium.com/@erikhallstrm/hello-world-rnn-83cd7105b767 <br>\n",
    "https://intellipaat.com/community/25190/record-the-computation-time-for-each-epoch-in-keras-during-model-fit"
   ]
  }
 ],
 "metadata": {
  "kernelspec": {
   "display_name": "TensorFlow-GPU",
   "language": "python",
   "name": "tf-gpu"
  },
  "language_info": {
   "codemirror_mode": {
    "name": "ipython",
    "version": 3
   },
   "file_extension": ".py",
   "mimetype": "text/x-python",
   "name": "python",
   "nbconvert_exporter": "python",
   "pygments_lexer": "ipython3",
   "version": "3.7.9"
  }
 },
 "nbformat": 4,
 "nbformat_minor": 4
}
